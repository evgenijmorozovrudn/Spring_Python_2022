{
 "cells": [
  {
   "cell_type": "markdown",
   "metadata": {},
   "source": [
    "## 6-е домашнее задание - Библиотека numpy\n",
    "\n",
    "<b>Срок до 2 июня 2022г. (включительно)</b>\n",
    "\n",
    "Подпишите этот блокнот: укажите ФИО и номер группы. Выполненное задание загрузите в свой репозиторий «<b>Spring_Python_2022</b>» в github в папку \"<b>homework-6</b>\".  \n",
    "\n",
    "Перед выполнением этого домашнего задания полезно прочитать про возможности и основные методы библиотеки numpy:  \n",
    "http://acm.mipt.ru/twiki/bin/view/Cintro/PythonNumpy  \n"
   ]
  },
  {
   "cell_type": "markdown",
   "metadata": {},
   "source": [
    "Морозов Евгений НПМ-бд-01-19"
   ]
  },
  {
   "cell_type": "code",
   "execution_count": 2,
   "metadata": {},
   "outputs": [],
   "source": [
    "import numpy as np"
   ]
  },
  {
   "cell_type": "markdown",
   "metadata": {},
   "source": [
    "1.\tСоздайте равномерное разбиение интервала от -1.3 до 2.5 на 64 отрезка."
   ]
  },
  {
   "cell_type": "code",
   "execution_count": 3,
   "metadata": {},
   "outputs": [
    {
     "data": {
      "text/plain": [
       "array([-1.3     , -1.240625, -1.18125 , -1.121875, -1.0625  , -1.003125,\n",
       "       -0.94375 , -0.884375, -0.825   , -0.765625, -0.70625 , -0.646875,\n",
       "       -0.5875  , -0.528125, -0.46875 , -0.409375, -0.35    , -0.290625,\n",
       "       -0.23125 , -0.171875, -0.1125  , -0.053125,  0.00625 ,  0.065625,\n",
       "        0.125   ,  0.184375,  0.24375 ,  0.303125,  0.3625  ,  0.421875,\n",
       "        0.48125 ,  0.540625,  0.6     ,  0.659375,  0.71875 ,  0.778125,\n",
       "        0.8375  ,  0.896875,  0.95625 ,  1.015625,  1.075   ,  1.134375,\n",
       "        1.19375 ,  1.253125,  1.3125  ,  1.371875,  1.43125 ,  1.490625,\n",
       "        1.55    ,  1.609375,  1.66875 ,  1.728125,  1.7875  ,  1.846875,\n",
       "        1.90625 ,  1.965625,  2.025   ,  2.084375,  2.14375 ,  2.203125,\n",
       "        2.2625  ,  2.321875,  2.38125 ,  2.440625,  2.5     ])"
      ]
     },
     "execution_count": 3,
     "metadata": {},
     "output_type": "execute_result"
    }
   ],
   "source": [
    "a = np.linspace(-1.3, 2.5, 65)\n",
    "a"
   ]
  },
  {
   "cell_type": "markdown",
   "metadata": {},
   "source": [
    "2.\tСгенерируйте numpy массив длины $3n$, заполненный циклически числами 1, 2, 3, 1, 2, 3, 1...."
   ]
  },
  {
   "cell_type": "code",
   "execution_count": 4,
   "metadata": {},
   "outputs": [
    {
     "data": {
      "text/plain": [
       "array([[1, 2, 3, 1, 2, 3, 1, 2, 3, 1, 2, 3]])"
      ]
     },
     "execution_count": 4,
     "metadata": {},
     "output_type": "execute_result"
    }
   ],
   "source": [
    "n = 4\n",
    "b = np.tile(np.arange(1, 4), (1, n))\n",
    "b"
   ]
  },
  {
   "cell_type": "markdown",
   "metadata": {},
   "source": [
    "3.\tСоздайте массив первых 10 нечетных целых чисел."
   ]
  },
  {
   "cell_type": "code",
   "execution_count": 5,
   "metadata": {},
   "outputs": [
    {
     "data": {
      "text/plain": [
       "array([ 1.,  3.,  5.,  7.,  9., 11., 13., 15., 17., 19.])"
      ]
     },
     "execution_count": 5,
     "metadata": {},
     "output_type": "execute_result"
    }
   ],
   "source": [
    "n = 10\n",
    "c = np.linspace(1, 2 * n - 1, n)   \n",
    "c"
   ]
  },
  {
   "cell_type": "markdown",
   "metadata": {},
   "source": [
    "4.  Создайте массив нулей размера 10 x 10, а затем создайте в нём \"рамку\" из единиц по краям."
   ]
  },
  {
   "cell_type": "code",
   "execution_count": 6,
   "metadata": {},
   "outputs": [
    {
     "name": "stdout",
     "output_type": "stream",
     "text": [
      "Рамка в массиве:\n",
      "[[1. 1. 1. 1. 1. 1. 1. 1. 1. 1.]\n",
      " [1. 0. 0. 0. 0. 0. 0. 0. 0. 1.]\n",
      " [1. 0. 0. 0. 0. 0. 0. 0. 0. 1.]\n",
      " [1. 0. 0. 0. 0. 0. 0. 0. 0. 1.]\n",
      " [1. 0. 0. 0. 0. 0. 0. 0. 0. 1.]\n",
      " [1. 0. 0. 0. 0. 0. 0. 0. 0. 1.]\n",
      " [1. 0. 0. 0. 0. 0. 0. 0. 0. 1.]\n",
      " [1. 0. 0. 0. 0. 0. 0. 0. 0. 1.]\n",
      " [1. 0. 0. 0. 0. 0. 0. 0. 0. 1.]\n",
      " [1. 1. 1. 1. 1. 1. 1. 1. 1. 1.]]\n",
      "\n"
     ]
    }
   ],
   "source": [
    "d = np.zeros((10, 10))\n",
    "d[:, 0:10:9] = 1\n",
    "d[0:10:9, :] = 1\n",
    "print('Рамка в массиве:', d, sep='\\n', end='\\n\\n')"
   ]
  },
  {
   "cell_type": "markdown",
   "metadata": {},
   "source": [
    "5.  Создайте массив 8 x 8 с шахматной доской из нулей и единиц."
   ]
  },
  {
   "cell_type": "code",
   "execution_count": 7,
   "metadata": {},
   "outputs": [
    {
     "name": "stdout",
     "output_type": "stream",
     "text": [
      "[[0 1 0 1 0 1 0 1]\n",
      " [1 0 1 0 1 0 1 0]\n",
      " [0 1 0 1 0 1 0 1]\n",
      " [1 0 1 0 1 0 1 0]\n",
      " [0 1 0 1 0 1 0 1]\n",
      " [1 0 1 0 1 0 1 0]\n",
      " [0 1 0 1 0 1 0 1]\n",
      " [1 0 1 0 1 0 1 0]]\n"
     ]
    }
   ],
   "source": [
    "g = np.tile(np.array([[0,1],[1,0]]), (4,4))\n",
    "print(g)"
   ]
  },
  {
   "cell_type": "markdown",
   "metadata": {},
   "source": [
    "6.  Создайте функцию, которая создает $n×n$ матрицу с $(i,j)$-элементом, равным $i+j$."
   ]
  },
  {
   "cell_type": "code",
   "execution_count": 8,
   "metadata": {},
   "outputs": [
    {
     "name": "stdout",
     "output_type": "stream",
     "text": [
      "[[ 0.  1.  2.  3.  4.  5.  6.  7.  8.  9.]\n",
      " [ 1.  2.  3.  4.  5.  6.  7.  8.  9. 10.]\n",
      " [ 2.  3.  4.  5.  6.  7.  8.  9. 10. 11.]\n",
      " [ 3.  4.  5.  6.  7.  8.  9. 10. 11. 12.]\n",
      " [ 4.  5.  6.  7.  8.  9. 10. 11. 12. 13.]\n",
      " [ 5.  6.  7.  8.  9. 10. 11. 12. 13. 14.]\n",
      " [ 6.  7.  8.  9. 10. 11. 12. 13. 14. 15.]\n",
      " [ 7.  8.  9. 10. 11. 12. 13. 14. 15. 16.]\n",
      " [ 8.  9. 10. 11. 12. 13. 14. 15. 16. 17.]\n",
      " [ 9. 10. 11. 12. 13. 14. 15. 16. 17. 18.]]\n"
     ]
    }
   ],
   "source": [
    "def create_m(n):\n",
    "    matrix = np.zeros((n, n))\n",
    "    for i in range(n):\n",
    "        matrix[i, :] = np.arange(0, n) + i\n",
    "    return matrix\n",
    "\n",
    "print(create_m(10))"
   ]
  },
  {
   "cell_type": "markdown",
   "metadata": {},
   "source": [
    "7. Примените функцию dot для перемножения вектор на вектор, матрицу на вектор и матрицу на матрицу."
   ]
  },
  {
   "cell_type": "code",
   "execution_count": 9,
   "metadata": {},
   "outputs": [
    {
     "name": "stdout",
     "output_type": "stream",
     "text": [
      "matrix\n",
      "[[ 0  1  2  3]\n",
      " [ 4  5  6  7]\n",
      " [ 8  9 10 11]]\n",
      "\n",
      "vector\n",
      "[0 1 2 3]\n",
      "\n",
      "vector.dot(vector)\n",
      "14\n",
      "\n",
      "matrix.dot(vector)\n",
      "[14 38 62]\n",
      "\n",
      "matrix.dot(matrix.T)\n",
      "[[ 14  38  62]\n",
      " [ 38 126 214]\n",
      " [ 62 214 366]]\n"
     ]
    }
   ],
   "source": [
    "matrix = np.array(np.arange(0, 12)).reshape(3, 4)\n",
    "print('matrix', matrix, sep='\\n', end='\\n\\n')\n",
    "\n",
    "vector = np.array(np.arange(0, 4))\n",
    "print('vector', vector, sep='\\n', end='\\n\\n')\n",
    "\n",
    "print('vector.dot(vector)', vector.dot(vector), sep='\\n', end='\\n\\n')\n",
    "print('matrix.dot(vector)', matrix.dot(vector), sep='\\n', end='\\n\\n')\n",
    "print('matrix.dot(matrix.T)', matrix.dot(matrix.T), sep='\\n')"
   ]
  },
  {
   "cell_type": "markdown",
   "metadata": {},
   "source": [
    "8. Вычислите cos(x) и sin(x) на интервале [0,1] с шагом $0.05$, а затем объедините оба массива чисел как строки в один массив."
   ]
  },
  {
   "cell_type": "code",
   "execution_count": 10,
   "metadata": {},
   "outputs": [
    {
     "data": {
      "text/plain": [
       "array([1.        , 0.99875026, 0.99500417, 0.98877108, 0.98006658,\n",
       "       0.96891242, 0.95533649, 0.93937271, 0.92106099, 0.9004471 ,\n",
       "       0.87758256, 0.85252452, 0.82533561, 0.7960838 , 0.76484219,\n",
       "       0.73168887, 0.69670671, 0.65998315, 0.62160997, 0.58168309,\n",
       "       0.54030231, 0.        , 0.04997917, 0.09983342, 0.14943813,\n",
       "       0.19866933, 0.24740396, 0.29552021, 0.34289781, 0.38941834,\n",
       "       0.43496553, 0.47942554, 0.52268723, 0.56464247, 0.60518641,\n",
       "       0.64421769, 0.68163876, 0.71735609, 0.75128041, 0.78332691,\n",
       "       0.8134155 , 0.84147098])"
      ]
     },
     "execution_count": 10,
     "metadata": {},
     "output_type": "execute_result"
    }
   ],
   "source": [
    "cosx = np.cos(np.arange(0, 1.05, 0.05))\n",
    "sinx = np.sin(np.arange(0, 1.05, 0.05))\n",
    "h = np.concatenate((cosx, sinx))\n",
    "h"
   ]
  },
  {
   "cell_type": "markdown",
   "metadata": {},
   "source": [
    "9. Создайте матрицу $A$ размера $3×5$ из случайных чисел с равномерным распределением на отрезке $[-1,3]$ (используйте np.random.rand)"
   ]
  },
  {
   "cell_type": "code",
   "execution_count": 11,
   "metadata": {},
   "outputs": [
    {
     "data": {
      "text/plain": [
       "array([[ 1.60859352e+00,  1.68002388e+00,  9.58723192e-01,\n",
       "         2.47279245e+00,  1.92837369e+00],\n",
       "       [ 2.72945836e+00,  4.14401530e-01, -6.27550306e-01,\n",
       "         1.10568008e+00,  1.50444141e-03],\n",
       "       [ 2.53591028e+00, -4.56571318e-01, -1.91764281e-01,\n",
       "         1.59454485e+00,  1.89745547e+00]])"
      ]
     },
     "execution_count": 11,
     "metadata": {},
     "output_type": "execute_result"
    }
   ],
   "source": [
    "A = (3 - (-1)) * np.random.rand(3, 5) + (-1)\n",
    "A"
   ]
  },
  {
   "cell_type": "markdown",
   "metadata": {},
   "source": [
    "10. Найдите сумму всех элементов, сумму внутри строк, сумму внутри столбцов, а также среднее значение, дисперсию и стандартное отклонение чисел для каждой строки матрицы $A$. (Подобно тому, как sorted имеет необязательный аргумент key=, многие функции Numpy имеют необязательный аргумент axis=)\n"
   ]
  },
  {
   "cell_type": "code",
   "execution_count": 12,
   "metadata": {},
   "outputs": [
    {
     "name": "stdout",
     "output_type": "stream",
     "text": [
      "сумма всех элементов 17.651575844494424\n",
      "сумма элементов по столбцам [6.87396216 1.63785409 0.1394086  5.17301739 3.8273336 ]\n",
      "сумма элементов по строкам [8.64850673 3.62349411 5.379575  ]\n",
      "среднее значение по строкам [1.72970135 0.72469882 1.075915  ]\n",
      "дисперсия по строкам [0.24063947 1.32241595 1.40620339]\n",
      "стандартное отклонение по строкам [0.49055017 1.14996346 1.18583447]\n"
     ]
    }
   ],
   "source": [
    "print(f'сумма всех элементов {A.sum()}')\n",
    "print(f'сумма элементов по столбцам {A.sum(axis=0)}')\n",
    "print(f'сумма элементов по строкам {A.sum(axis=1)}')\n",
    "print(f'среднее значение по строкам {A.mean(axis=1)}')\n",
    "print(f'дисперсия по строкам {A.var(axis=1)}')\n",
    "print(f'стандартное отклонение по строкам {A.std(axis=1)}')"
   ]
  },
  {
   "cell_type": "markdown",
   "metadata": {},
   "source": [
    "11.  Отнимите от каждого элемента матрицы $A$ среднее по строке и поделите на стандартное отклонение строки."
   ]
  },
  {
   "cell_type": "code",
   "execution_count": 13,
   "metadata": {},
   "outputs": [
    {
     "data": {
      "text/plain": [
       "array([[-0.24688163, -0.10126888, -1.57166014,  1.51481163,  0.40499903],\n",
       "       [ 1.74332456, -0.26983231, -1.17590617,  0.33129858, -0.62888466],\n",
       "       [ 1.23119653, -1.29232735, -1.06901875,  0.43735434,  0.69279523]])"
      ]
     },
     "execution_count": 13,
     "metadata": {},
     "output_type": "execute_result"
    }
   ],
   "source": [
    "for i in range(len(A)):\n",
    "    A[i, :] = (A[i, :] - A.mean(axis=1)[i]) / A.std(axis=1)[i]\n",
    "A"
   ]
  },
  {
   "cell_type": "markdown",
   "metadata": {},
   "source": [
    "12. Отсортируйте матрицу $A$ по 3-ому столбцу, т.е. поменяйте местами строки матрицы так, чтобы 3-й столбец оказался отсортированным. Используйте для этого slicing + argsort + indexing."
   ]
  },
  {
   "cell_type": "code",
   "execution_count": 14,
   "metadata": {},
   "outputs": [
    {
     "data": {
      "text/plain": [
       "array([[    1,     2,     3],\n",
       "       [-1000,     0,  1001],\n",
       "       [   -1,    10, 10000]])"
      ]
     },
     "execution_count": 14,
     "metadata": {},
     "output_type": "execute_result"
    }
   ],
   "source": [
    "A = np.array([[1, 2, 3],\n",
    "              [-1, 10, 10000],\n",
    "              [-1000, 0, 1001]])\n",
    "ind = A[:, 2].argsort()\n",
    "A[ind]"
   ]
  },
  {
   "cell_type": "markdown",
   "metadata": {},
   "source": [
    "13. Посчитайте две матрицы: $B = A^TA$ и $C = AA^T$. Что вы можете о них сказать? Какого они размера? В чём их сходство и отличие?"
   ]
  },
  {
   "cell_type": "code",
   "execution_count": 15,
   "metadata": {},
   "outputs": [
    {
     "name": "stdout",
     "output_type": "stream",
     "text": [
      "B = A.T.dot(A)\n",
      "[[  251   212   203  1739]\n",
      " [  212   184   180  1412]\n",
      " [  203   180   179  1311]\n",
      " [ 1739  1412  1311 12849]]\n",
      "\n",
      "C = A.dot(A.T)\n",
      "[[   30    70   524]\n",
      " [   70   174  1128]\n",
      " [  524  1128 13259]]\n"
     ]
    }
   ],
   "source": [
    "A = np.array([[1, 2, 3, 4], \n",
    "              [5, 6, 7, 8], \n",
    "              [15, 12, 11, 113]])\n",
    "\n",
    "B = A.T.dot(A)\n",
    "C = A.dot(A.T)\n",
    "print('B = A.T.dot(A)', B, sep='\\n')\n",
    "print()\n",
    "print('C = A.dot(A.T)', C, sep='\\n')"
   ]
  },
  {
   "cell_type": "markdown",
   "metadata": {},
   "source": [
    "14. Найдите сумму диагональных элементов матриц $B$ и $C$."
   ]
  },
  {
   "cell_type": "code",
   "execution_count": 16,
   "metadata": {},
   "outputs": [
    {
     "name": "stdout",
     "output_type": "stream",
     "text": [
      "сумма диагональных элементов для В = 13463\n",
      "сумма диагональных элементов для C = 13463\n"
     ]
    }
   ],
   "source": [
    "print(f'сумма диагональных элементов для В = {np.diag(B).sum()}')\n",
    "print(f'сумма диагональных элементов для C = {np.diag(C).sum()}')"
   ]
  },
  {
   "cell_type": "markdown",
   "metadata": {},
   "source": [
    "15.\tПосчитайте детерминант и ранг матриц $A$, $B$ и $C$, посмотрите на спектр (набор собственных значений) матриц $B$ и $C$, какие выводы вы можете сделать?  \n",
    "(подсказка: используйте готовые функции из библиотеки np.linalg). \n"
   ]
  },
  {
   "cell_type": "code",
   "execution_count": 17,
   "metadata": {},
   "outputs": [
    {
     "name": "stdout",
     "output_type": "stream",
     "text": [
      "A:\n",
      "det = 3.7243808037597826e-09\n",
      "rg = 3\n",
      "с.з. = [1.33764209e+04 8.56669313e+01 9.12121960e-01 6.50171779e-14]\n",
      "\n",
      "B:\n",
      "det = 3.7243808037597826e-09\n",
      "rg = 3\n",
      "с.з. = [1.33764209e+04 8.56669313e+01 9.12121960e-01 6.50171779e-14]\n",
      "\n",
      "C:\n",
      "det = 1045215.9999999979\n",
      "rg = 3\n",
      "с.з. = [1.33764209e+04 9.12121960e-01 8.56669313e+01]\n"
     ]
    }
   ],
   "source": [
    "print('A:', f'det = {np.linalg.det(B)}',\n",
    "      f'rg = {np.linalg.matrix_rank(B)}', f'с.з. = {np.linalg.eig(B)[0]}', sep='\\n')\n",
    "print()\n",
    "print('B:', f'det = {np.linalg.det(B)}', \n",
    "      f'rg = {np.linalg.matrix_rank(B)}', f'с.з. = {np.linalg.eig(B)[0]}', sep='\\n')\n",
    "print()\n",
    "print('C:', f'det = {np.linalg.det(C)}', \n",
    "      f'rg = {np.linalg.matrix_rank(C)}', f'с.з. = {np.linalg.eig(C)[0]}', sep='\\n')"
   ]
  },
  {
   "cell_type": "markdown",
   "metadata": {},
   "source": [
    "16. Численно посчитать определённый интеграл  3-мя методами:  \n",
    "a)\tПрямоугольников $\\int\\limits_a^b {f(x)dx \\approx \\Delta x\\sum\\limits_{k = 0}^N {f({x_k})} }$  \n",
    "b)\tТрапеций $\\int\\limits_a^b {f(x)dx \\approx \\frac{{\\Delta x}}{2}\\left( {f({x_0}) + 2\\sum\\limits_{k = 1}^{N - 1} {f({x_k})}  + f({x_N})} \\right)}$  \n",
    "c)\tПо правилу Симпсона  $\\int\\limits_a^b {f(x)dx \\approx \\frac{{\\Delta x}}{3}\\left( {f({x_0}) + 2\\sum\\limits_{k = 1}^{N/2 - 1} {f({x_{2k}})}  + 4\\sum\\limits_{k = 1}^{N/2} {f({x_{2k - 1}})}  + f({x_N})} \\right)}$  \n",
    "\n",
    "\n",
    "В реализации этих методов цикл for для суммирования использовать нельзя.  \n",
    "Нужно посчитать значение интеграла с некоторым шагом интегрирования (например начать с 0.1), потом уменьшить его в десять раз и ещё раз посчитать и так до тех пор пока отличие в ответах будет в 5-м знаке после запятой, т.е. чтобы ошибка была меньше 1e-5. Получить ответы для 3-х разных методов и сделать соответствующие выводы.  \n",
    "\n",
    "Далее необходимо сравнить полученные оценки с аналитическим решением (т.е. формульным, которое вы должны сами посчитать на листочке и вбить формулу-ответ).   \n",
    "\n",
    "В качестве интеграла взять один из следующих с номером, сгенерированным случайным образом с помощью функции np.random.randint(10), в качестве seed для генератора случайных чисел взять номер своего студенческого билета.\n",
    "\n",
    "<table width=\"80%\"\n",
    "       align=\"center\">\n",
    "    <tr>\n",
    "        <td> 0) $\\int\\limits_3^4 {\\frac{{{x^2} + 3}}{{x - 2}}dx}$ </td>\n",
    "        <td> 1) $\\int\\limits_{ - 2}^{ - 1} {\\frac{{x + 1}}{{{x^3} - {x^2}}}dx}$ </td>\n",
    "        <td> 2) $\\int\\limits_1^2 {\\frac{{{e^{1/{x^2}}}}}{{{x^3}}}dx}$ </td>\n",
    "        <td> 3) $\\int\\limits_1^e {\\frac{{\\cos (\\ln x)}}{x}dx}$ </td>\n",
    "        <td> 4) $\\int\\limits_1^e {\\frac{{dx}}{{x(1 + {{\\ln }^2}x)}}}$ </td>\n",
    "    </tr>                \n",
    "    <tr>\n",
    "        <td> 5) $\\int\\limits_0^{\\pi /2} {{{\\cos }^3}\\alpha \\;d\\alpha }$ </td>\n",
    "        <td> 6) $\\int\\limits_0^{1/3} {c{h^2}3x\\;dx}$ </td>\n",
    "        <td> 7) $\\int\\limits_2^3 {\\frac{{dy}}{{{y^2} - 2y - 8}}dy}$ </td>\n",
    "        <td> 8) $\\int\\limits_{3/4}^2 {\\frac{{dx}}{{\\sqrt {2 + 3x - 2{x^2}} }}}$ </td>\n",
    "        <td> 9) $\\int\\limits_0^2 {\\frac{{2x - 1}}{{2x + 1}}dx}$ </td>\n",
    "        </tr>\n",
    "</table>"
   ]
  },
  {
   "cell_type": "code",
   "execution_count": 20,
   "metadata": {},
   "outputs": [
    {
     "name": "stdout",
     "output_type": "stream",
     "text": [
      "вариант 0\n"
     ]
    }
   ],
   "source": [
    "np.random.seed(1032181583)\n",
    "print(f'вариант {np.random.randint(10)}')"
   ]
  },
  {
   "cell_type": "code",
   "execution_count": 21,
   "metadata": {},
   "outputs": [
    {
     "name": "stdout",
     "output_type": "stream",
     "text": [
      "Метод прямоугольников: 3.086960291445473\n",
      "Метод трапеций: 3.0794417291798126\n",
      "Метод Симпсона: 3.079441541679836\n"
     ]
    }
   ],
   "source": [
    "def f(x):\n",
    "    return (x + 1) / (x - 2)\n",
    "\n",
    "def p(f, a, b, sh):\n",
    "    x = np.linspace(a, b - sh, int((b - a) / sh))\n",
    "    y = sh * f(x) \n",
    "    return np.sum(y)\n",
    "\n",
    "def t(f, a, b, sh):\n",
    "    x = np.linspace(a, b, int((b - a) / sh) + 1)\n",
    "    y = f(x[0]) + 2 * np.sum(f(x[1:-1])) + f(x[-1])\n",
    "    return y * sh / 2\n",
    "\n",
    "def s(f, a, b, sh):\n",
    "    x = np.linspace(a, b, int((b - a) / sh) + 1)\n",
    "    y = f(x[0]) + 4 * np.sum(f(x[1:-1:2])) + 2 * np.sum(f(x[2:-1:2])) + f(x[-1])\n",
    "    return y * sh / 3\n",
    "\n",
    "print('Метод прямоугольников:', p(f, 3, 4, 0.01))\n",
    "print('Метод трапеций:', t(f, 3, 4, 0.001))\n",
    "print('Метод Симпсона:', s(f, 3, 4, 0.0001))"
   ]
  },
  {
   "cell_type": "code",
   "execution_count": null,
   "metadata": {},
   "outputs": [],
   "source": []
  }
 ],
 "metadata": {
  "kernelspec": {
   "display_name": "Python 3 (ipykernel)",
   "language": "python",
   "name": "python3"
  },
  "language_info": {
   "codemirror_mode": {
    "name": "ipython",
    "version": 3
   },
   "file_extension": ".py",
   "mimetype": "text/x-python",
   "name": "python",
   "nbconvert_exporter": "python",
   "pygments_lexer": "ipython3",
   "version": "3.9.7"
  }
 },
 "nbformat": 4,
 "nbformat_minor": 2
}
