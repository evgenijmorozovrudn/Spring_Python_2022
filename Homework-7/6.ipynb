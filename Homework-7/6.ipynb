{
 "cells": [
  {
   "cell_type": "markdown",
   "id": "b946b02c",
   "metadata": {},
   "source": [
    "Задача 1. Четные индексы"
   ]
  },
  {
   "cell_type": "code",
   "execution_count": 1,
   "id": "56765000",
   "metadata": {},
   "outputs": [
    {
     "name": "stdout",
     "output_type": "stream",
     "text": [
      "1 5 7 10\n",
      "1 7\n"
     ]
    }
   ],
   "source": [
    "print(' '.join(list(input().split())[::2]))"
   ]
  },
  {
   "cell_type": "markdown",
   "id": "77578559",
   "metadata": {},
   "source": [
    "Задача 2. Наибольший элемент и его индекс"
   ]
  },
  {
   "cell_type": "code",
   "execution_count": 2,
   "id": "debbdba7",
   "metadata": {},
   "outputs": [
    {
     "name": "stdout",
     "output_type": "stream",
     "text": [
      "1 2 4 7 8 2 4 7\n",
      "8 4\n"
     ]
    }
   ],
   "source": [
    "inp_list = list(enumerate(input().split()))\n",
    "print(' '.join(map(str, max(inp_list, key = lambda x : x[1])))[::-1])"
   ]
  },
  {
   "cell_type": "markdown",
   "id": "4d284c11",
   "metadata": {},
   "source": [
    "Задача 3. Вывести в обратном порядке"
   ]
  },
  {
   "cell_type": "code",
   "execution_count": 4,
   "id": "8eb204d2",
   "metadata": {},
   "outputs": [
    {
     "name": "stdout",
     "output_type": "stream",
     "text": [
      "1 2 3 4 5 6 7 8 9\n",
      "9 8 7 6 5 4 3 2 1\n"
     ]
    }
   ],
   "source": [
    "print(input()[::-1])"
   ]
  },
  {
   "cell_type": "markdown",
   "id": "894165ee",
   "metadata": {},
   "source": [
    "Задача 4. Переставить соседние"
   ]
  },
  {
   "cell_type": "code",
   "execution_count": 5,
   "id": "6c932484",
   "metadata": {},
   "outputs": [
    {
     "name": "stdout",
     "output_type": "stream",
     "text": [
      "1 2 3 4 5 6 7 8 9\n",
      "2 1 4 3 6 5 8 7 9\n"
     ]
    }
   ],
   "source": [
    "lst = list(input().split())\n",
    "lst[:-1:2], lst[1::2] = lst[1::2], lst[:-1:2]\n",
    "print(' '.join(lst))"
   ]
  },
  {
   "cell_type": "markdown",
   "id": "1ce78141",
   "metadata": {},
   "source": [
    "Задача 5. Циклический сдвиг вправо"
   ]
  },
  {
   "cell_type": "code",
   "execution_count": 6,
   "id": "6a1b2e53",
   "metadata": {},
   "outputs": [
    {
     "name": "stdout",
     "output_type": "stream",
     "text": [
      "1 2 3 4 5 6 7 8 9\n",
      "9 1 2 3 4 5 6 7 8\n"
     ]
    }
   ],
   "source": [
    "lst = list(input().split())\n",
    "print(' '.join([lst[-1]] + lst[:-1]))"
   ]
  },
  {
   "cell_type": "markdown",
   "id": "d6efae90",
   "metadata": {},
   "source": [
    "Задача 6. Удалить элемент"
   ]
  },
  {
   "cell_type": "code",
   "execution_count": 7,
   "id": "7fe1cf81",
   "metadata": {},
   "outputs": [
    {
     "name": "stdout",
     "output_type": "stream",
     "text": [
      "1 2 3 4 5 6 7 8 9\n",
      "5\n",
      "1 2 3 4 5 7 8 9\n"
     ]
    }
   ],
   "source": [
    "lst = list(input().split())\n",
    "lst.pop(int(input()))\n",
    "print(' '.join(lst))"
   ]
  },
  {
   "cell_type": "markdown",
   "id": "029fa912",
   "metadata": {},
   "source": [
    "Задача 7. Вставить элемент"
   ]
  },
  {
   "cell_type": "code",
   "execution_count": 9,
   "id": "5a8f347d",
   "metadata": {},
   "outputs": [
    {
     "name": "stdout",
     "output_type": "stream",
     "text": [
      "1 2 3 4 5 6 7 8 9\n",
      "0 0\n",
      "0 1 2 3 4 5 6 7 8 9\n"
     ]
    }
   ],
   "source": [
    "lst = list((input().split()))\n",
    "n, elem = map(int, input().split())\n",
    "print(' '.join(map(str, lst[:n] + list([elem]) + lst[n:])))"
   ]
  },
  {
   "cell_type": "code",
   "execution_count": null,
   "id": "517a6687",
   "metadata": {},
   "outputs": [],
   "source": [
    "Задача 8. Большой сдвиг"
   ]
  },
  {
   "cell_type": "code",
   "execution_count": 10,
   "id": "ccd0289e",
   "metadata": {},
   "outputs": [
    {
     "name": "stdout",
     "output_type": "stream",
     "text": [
      "1 2 3 4 5 6 7 8 9\n",
      "4\n",
      "6 7 8 9 1 2 3 4 5\n"
     ]
    }
   ],
   "source": [
    "lst = list(input().split())\n",
    "print(' '.join(map(str, map(lambda i : ' '.join(lst[-int(i):]) + ' ' + ' '.join(lst[:-int(i)]), input()))))"
   ]
  }
 ],
 "metadata": {
  "kernelspec": {
   "display_name": "Python 3 (ipykernel)",
   "language": "python",
   "name": "python3"
  },
  "language_info": {
   "codemirror_mode": {
    "name": "ipython",
    "version": 3
   },
   "file_extension": ".py",
   "mimetype": "text/x-python",
   "name": "python",
   "nbconvert_exporter": "python",
   "pygments_lexer": "ipython3",
   "version": "3.9.7"
  }
 },
 "nbformat": 4,
 "nbformat_minor": 5
}
