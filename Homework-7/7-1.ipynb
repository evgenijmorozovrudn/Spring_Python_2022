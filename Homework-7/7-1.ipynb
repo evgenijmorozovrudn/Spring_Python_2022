{
 "cells": [
  {
   "cell_type": "markdown",
   "id": "b946b02c",
   "metadata": {},
   "source": [
    "Задача 1. Четные индексы"
   ]
  },
  {
   "cell_type": "code",
   "execution_count": 1,
   "id": "56765000",
   "metadata": {},
   "outputs": [
    {
     "name": "stdout",
     "output_type": "stream",
     "text": [
      "1 5 7 10\n",
      "1 7\n"
     ]
    }
   ],
   "source": [
    "print(' '.join(list(input().split())[::2]))"
   ]
  },
  {
   "cell_type": "markdown",
   "id": "77578559",
   "metadata": {},
   "source": [
    "Задача 2. Наибольший элемент и его индекс"
   ]
  },
  {
   "cell_type": "code",
   "execution_count": 11,
   "id": "debbdba7",
   "metadata": {},
   "outputs": [
    {
     "name": "stdout",
     "output_type": "stream",
     "text": [
      "1 2 3 4 5 6 7\n",
      "7 6\n"
     ]
    }
   ],
   "source": [
    "a = list(map(int, input().split()))\n",
    "print(max(a), a.index(max(a)))"
   ]
  },
  {
   "cell_type": "markdown",
   "id": "4d284c11",
   "metadata": {},
   "source": [
    "Задача 3. Вывести в обратном порядке"
   ]
  },
  {
   "cell_type": "code",
   "execution_count": 4,
   "id": "8eb204d2",
   "metadata": {},
   "outputs": [
    {
     "name": "stdout",
     "output_type": "stream",
     "text": [
      "1 2 3 4 5 6 7 8 9\n",
      "9 8 7 6 5 4 3 2 1\n"
     ]
    }
   ],
   "source": [
    "print(input()[::-1])"
   ]
  },
  {
   "cell_type": "markdown",
   "id": "894165ee",
   "metadata": {},
   "source": [
    "Задача 4. Переставить соседние"
   ]
  },
  {
   "cell_type": "code",
   "execution_count": 5,
   "id": "6c932484",
   "metadata": {},
   "outputs": [
    {
     "name": "stdout",
     "output_type": "stream",
     "text": [
      "1 2 3 4 5 6 7 8 9\n",
      "2 1 4 3 6 5 8 7 9\n"
     ]
    }
   ],
   "source": [
    "lst = list(input().split())\n",
    "lst[:-1:2], lst[1::2] = lst[1::2], lst[:-1:2]\n",
    "print(' '.join(lst))"
   ]
  },
  {
   "cell_type": "markdown",
   "id": "1ce78141",
   "metadata": {},
   "source": [
    "Задача 5. Циклический сдвиг вправо"
   ]
  },
  {
   "cell_type": "code",
   "execution_count": 12,
   "id": "6a1b2e53",
   "metadata": {},
   "outputs": [
    {
     "name": "stdout",
     "output_type": "stream",
     "text": [
      "1 2 3 4 5 6 7 8\n",
      "2 3 4 5 6 7 8 1\n"
     ]
    }
   ],
   "source": [
    "a = input().split()\n",
    "print(' '.join(a[1:]), a[0])"
   ]
  },
  {
   "cell_type": "markdown",
   "id": "d6efae90",
   "metadata": {},
   "source": [
    "Задача 6. Удалить элемент"
   ]
  },
  {
   "cell_type": "code",
   "execution_count": 13,
   "id": "7fe1cf81",
   "metadata": {},
   "outputs": [
    {
     "name": "stdout",
     "output_type": "stream",
     "text": [
      "1 2 3 4 5 6 7\n",
      "6\n",
      "1 2 3 4 5 6\n"
     ]
    }
   ],
   "source": [
    "a = input().split()\n",
    "i = int(input())\n",
    "print(' '.join(a[:i] + a[i+1:]))"
   ]
  },
  {
   "cell_type": "markdown",
   "id": "029fa912",
   "metadata": {},
   "source": [
    "Задача 7. Вставить элемент"
   ]
  },
  {
   "cell_type": "code",
   "execution_count": 14,
   "id": "5a8f347d",
   "metadata": {},
   "outputs": [
    {
     "name": "stdout",
     "output_type": "stream",
     "text": [
      "1 2 3 4 5 6 7 8\n",
      "0 0\n",
      " 0 1 2 3 4 5 6 7 8\n"
     ]
    }
   ],
   "source": [
    "a = input().split()\n",
    "n, elem = map(int, input().split())\n",
    "print(' '.join(a[:n]), elem, ' '.join(a[n:]))"
   ]
  },
  {
   "cell_type": "code",
   "execution_count": null,
   "id": "517a6687",
   "metadata": {},
   "outputs": [],
   "source": [
    "Задача 8. Большой сдвиг"
   ]
  },
  {
   "cell_type": "code",
   "execution_count": 15,
   "id": "ccd0289e",
   "metadata": {},
   "outputs": [
    {
     "name": "stdout",
     "output_type": "stream",
     "text": [
      "1 2 3 4 5 6 7 8\n",
      "2\n",
      "2 3 4 5 6 7 8 1\n"
     ]
    }
   ],
   "source": [
    "a, i = input().split(), int(input())\n",
    "print(' '.join(a[i-1:] + a[:i-1]))"
   ]
  },
  {
   "cell_type": "code",
   "execution_count": null,
   "id": "4ae405d4",
   "metadata": {},
   "outputs": [],
   "source": []
  }
 ],
 "metadata": {
  "kernelspec": {
   "display_name": "Python 3 (ipykernel)",
   "language": "python",
   "name": "python3"
  },
  "language_info": {
   "codemirror_mode": {
    "name": "ipython",
    "version": 3
   },
   "file_extension": ".py",
   "mimetype": "text/x-python",
   "name": "python",
   "nbconvert_exporter": "python",
   "pygments_lexer": "ipython3",
   "version": "3.9.7"
  }
 },
 "nbformat": 4,
 "nbformat_minor": 5
}
