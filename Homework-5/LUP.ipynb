{
 "cells": [
  {
   "cell_type": "markdown",
   "id": "481c15c0",
   "metadata": {},
   "source": [
    "# LU- и LUP-разложение"
   ]
  },
  {
   "cell_type": "markdown",
   "id": "e8b7938a",
   "metadata": {},
   "source": [
    "#### Морозов Евгений Александрович НПМбд-01-19"
   ]
  },
  {
   "cell_type": "markdown",
   "id": "608433cb",
   "metadata": {},
   "source": [
    "Имеем СЛАУ A * x = b. \n",
    "Если матрица A не вырождена, можно искать решение методом LU- и LUP- разложений."
   ]
  },
  {
   "cell_type": "code",
   "execution_count": 149,
   "id": "f0e372cf",
   "metadata": {},
   "outputs": [],
   "source": [
    "import numpy as np\n",
    "import scipy.linalg"
   ]
  },
  {
   "cell_type": "markdown",
   "id": "919a342c",
   "metadata": {},
   "source": [
    "## LU-разложение"
   ]
  },
  {
   "cell_type": "markdown",
   "id": "16e63e9e",
   "metadata": {},
   "source": [
    "LU-разложение — это представление матрицы A в виде A=L*U, где L — нижнетреугольная матрица с еденичной диагональю, а U — верхнетреугольная матрица. LU-разложение является модификациеё метода Гаусса. "
   ]
  },
  {
   "cell_type": "code",
   "execution_count": 150,
   "id": "ba68c542",
   "metadata": {},
   "outputs": [],
   "source": [
    "def LU(A):\n",
    "    n = A.shape[0]\n",
    "    U = A.copy()\n",
    "    L = np.eye(n, dtype=float)\n",
    "    \n",
    "    for i in range(n):\n",
    "        L[i + 1:, i] = U[i + 1:, i] / U[i, i]\n",
    "        U[i + 1:] = (U[i + 1:] - L[i + 1:, i, np.newaxis] * U[i])\n",
    "            \n",
    "    return L, U"
   ]
  },
  {
   "cell_type": "markdown",
   "id": "813b919c",
   "metadata": {},
   "source": [
    "Проверка: A = L * U"
   ]
  },
  {
   "cell_type": "code",
   "execution_count": 151,
   "id": "c3c32144",
   "metadata": {},
   "outputs": [
    {
     "name": "stdout",
     "output_type": "stream",
     "text": [
      "A1:\n",
      "[[  1.   2.   3.]\n",
      " [  4.   5.   6.]\n",
      " [  7.   8. 100.]]\n",
      "\n",
      "L * U\n",
      "[[  1.   2.   3.]\n",
      " [  4.   5.   6.]\n",
      " [  7.   8. 100.]]\n",
      "\n"
     ]
    }
   ],
   "source": [
    "A1 = np.array([[1, 2, 3],\n",
    "               [4, 5, 6],\n",
    "               [7, 8, 100]],\n",
    "             dtype=float)\n",
    "\n",
    "print('A1:')\n",
    "print(A1)\n",
    "print()\n",
    "\n",
    "L, U = LU(A1)\n",
    "\n",
    "print('L * U')\n",
    "print(L.dot(U))\n",
    "print()"
   ]
  },
  {
   "cell_type": "markdown",
   "id": "81f79940",
   "metadata": {},
   "source": [
    "### LUP-разложение"
   ]
  },
  {
   "cell_type": "markdown",
   "id": "97d0536a",
   "metadata": {},
   "source": [
    "На диагонали матрицы A может стоять нуль, в этом случае у нас не получится делить на него в методе LU. Тогда мы можем в изначальной матрице переставлять строки и запоминать перестановки в матрицу перестановок P."
   ]
  },
  {
   "cell_type": "code",
   "execution_count": 152,
   "id": "7435831a",
   "metadata": {},
   "outputs": [],
   "source": [
    "def LUP(A):\n",
    "    n = A.shape[0]\n",
    "    U = A.copy()\n",
    "    L = np.eye(n, dtype=np.double)\n",
    "    P = np.eye(n, dtype=np.double)\n",
    "    \n",
    "    for i in range(n):\n",
    "        for k in range(i, n): \n",
    "            if ~np.isclose(U[i, i], 0.0):\n",
    "                break\n",
    "            U[[k, k+1]] = U[[k+1, k]]\n",
    "            P[[k, k+1]] = P[[k+1, k]]\n",
    "            \n",
    "        L[i + 1:, i] = U[i + 1:, i] / U[i, i]\n",
    "        U[i + 1:] = (U[i + 1:] - L[i + 1:, i, np.newaxis] * U[i])\n",
    "        \n",
    "    return P, L, U\n"
   ]
  },
  {
   "cell_type": "markdown",
   "id": "05d29e09",
   "metadata": {},
   "source": [
    "Проверка: A = P.T * L * U. Добавим ноликов:"
   ]
  },
  {
   "cell_type": "code",
   "execution_count": 153,
   "id": "ff637d13",
   "metadata": {},
   "outputs": [
    {
     "name": "stdout",
     "output_type": "stream",
     "text": [
      "A2\n",
      "[[ 0.  2.  3.]\n",
      " [ 4.  0.  0.]\n",
      " [ 7.  8. 10.]]\n",
      "\n",
      "P.T * L * U\n",
      "[[ 0.  2.  3.]\n",
      " [ 4.  0.  0.]\n",
      " [ 7.  8. 10.]]\n",
      "\n"
     ]
    }
   ],
   "source": [
    "A2 = np.array([[0, 2, 3],\n",
    "               [4, 0, 0],\n",
    "               [7, 8, 10]],\n",
    "              dtype=float)\n",
    "\n",
    "\n",
    "\n",
    "P, L, U = LUP(A2)\n",
    "\n",
    "print('A2')\n",
    "print(A2)\n",
    "print()\n",
    "\n",
    "print('P.T * L * U')\n",
    "print(P.T.dot(L.dot(U)))\n",
    "print()"
   ]
  },
  {
   "cell_type": "markdown",
   "id": "ce473259",
   "metadata": {},
   "source": [
    "Решаем систему L * y = b"
   ]
  },
  {
   "cell_type": "code",
   "execution_count": 154,
   "id": "162b0943",
   "metadata": {},
   "outputs": [],
   "source": [
    "def forward_substitution(L, b):\n",
    "    n = A.shape[0]\n",
    "    y = np.zeros_like(b, dtype=np.double)\n",
    "    y[0] = b[0] / L[0, 0]\n",
    "    \n",
    "    for i in range(1, n):\n",
    "        y[i] = (b[i] - np.dot(L[i, :i], y[:i])) / L[i, i]\n",
    "        \n",
    "    return y"
   ]
  },
  {
   "cell_type": "markdown",
   "id": "8e94e516",
   "metadata": {},
   "source": [
    "Решаем систему U * x = y"
   ]
  },
  {
   "cell_type": "code",
   "execution_count": 155,
   "id": "fe82445e",
   "metadata": {},
   "outputs": [],
   "source": [
    "def back_substitution(U, y):\n",
    "    n = U.shape[0]\n",
    "    x = np.zeros_like(y, dtype=np.double);\n",
    "\n",
    "    x[-1] = y[-1] / U[-1, -1]\n",
    "\n",
    "    for i in range(n - 2, -1, -1):\n",
    "        x[i] = (y[i] - np.dot(U[i, i:], x[i:])) / U[i, i]\n",
    "        \n",
    "    return x"
   ]
  },
  {
   "cell_type": "markdown",
   "id": "0c38a373",
   "metadata": {},
   "source": [
    "### Решаем СЛАУ"
   ]
  },
  {
   "cell_type": "code",
   "execution_count": 156,
   "id": "4691cc6b",
   "metadata": {},
   "outputs": [],
   "source": [
    "# вектор правой части\n",
    "b = np.array([10, 20, 33], dtype=float)"
   ]
  },
  {
   "cell_type": "code",
   "execution_count": 157,
   "id": "1399dab6",
   "metadata": {},
   "outputs": [],
   "source": [
    "def LU_solve(A, b):\n",
    "    L, U = LU(A)\n",
    "    y = forward_substitution(L, b)\n",
    "    \n",
    "    return back_substitution(U, y)"
   ]
  },
  {
   "cell_type": "code",
   "execution_count": 158,
   "id": "d91ed1ea",
   "metadata": {},
   "outputs": [],
   "source": [
    "def LUP_solve(A, b):\n",
    "    P, L, U = LUP(A)\n",
    "    y = forward_substitution(L, np.dot(P.T, b))\n",
    "    \n",
    "    return back_substitution(U, y)"
   ]
  },
  {
   "cell_type": "markdown",
   "id": "3b1f9eab",
   "metadata": {},
   "source": [
    "Решим A1 * x = b:"
   ]
  },
  {
   "cell_type": "code",
   "execution_count": 160,
   "id": "d55c9240",
   "metadata": {},
   "outputs": [
    {
     "name": "stdout",
     "output_type": "stream",
     "text": [
      "[-3.3003663   6.6007326   0.03296703]\n",
      "[-3.3003663   6.6007326   0.03296703]\n"
     ]
    }
   ],
   "source": [
    "print(LU_solve(A1, b))\n",
    "print(np.linalg.solve(A1, b))"
   ]
  },
  {
   "cell_type": "markdown",
   "id": "80e0c89a",
   "metadata": {},
   "source": [
    "Решим A2 * x = b:"
   ]
  },
  {
   "cell_type": "code",
   "execution_count": 162,
   "id": "11c7af67",
   "metadata": {},
   "outputs": [
    {
     "name": "stdout",
     "output_type": "stream",
     "text": [
      "[  5.  -26.5  21. ]\n",
      "[  5.  -26.5  21. ]\n"
     ]
    }
   ],
   "source": [
    "print(LUP_solve(A2, b))\n",
    "print(np.linalg.solve(A2, b))"
   ]
  },
  {
   "cell_type": "markdown",
   "id": "528f5f75",
   "metadata": {},
   "source": [
    "Вывод: \n",
    "\n",
    "Используем numpy, если хотим быстро работать с матрицами, т.к. numpy написан на С (но не используем numpy, если нам надо в матрицы добавлять элементы разных типов).\n",
    "\n",
    "Удобно использовать LU- и LUP-разложение, если надо считать решение для одной и той же матрицы, но с разной правой частью, так как вектор b в данном методе ипользуется только на заключительном этапе."
   ]
  }
 ],
 "metadata": {
  "kernelspec": {
   "display_name": "Python 3",
   "language": "python",
   "name": "python3"
  },
  "language_info": {
   "codemirror_mode": {
    "name": "ipython",
    "version": 3
   },
   "file_extension": ".py",
   "mimetype": "text/x-python",
   "name": "python",
   "nbconvert_exporter": "python",
   "pygments_lexer": "ipython3",
   "version": "3.8.5"
  }
 },
 "nbformat": 4,
 "nbformat_minor": 5
}
